{
 "cells": [
  {
   "cell_type": "markdown",
   "metadata": {},
   "source": [
    "## Martin Dionne"
   ]
  },
  {
   "cell_type": "markdown",
   "metadata": {
    "colab_type": "text",
    "id": "c8zuAcfM5lDz"
   },
   "source": [
    "# 1. Big-O Theory exercises\n",
    "\n",
    "1. What is the big-O of the following algorithm? Assume `A` is an array of numbers\n",
    "\n",
    "```python\n",
    "def number_in_array(A, num):\n",
    "  for i in range(len(A)):\n",
    "    if A[i] == num:\n",
    "      return True\n",
    "  return False\n",
    "```\n",
    "\n",
    "2. What is the big-O of the following algorithm? Assume `A` and `B` are arrays of numbers of the **same length n**\n",
    "\n",
    "```python\n",
    "def number_in_two_arrays(A, B, num):\n",
    "  arr_len = len(A)\n",
    "  for i in range(arr_len):\n",
    "    if A[i] == num:\n",
    "      return True\n",
    "  for i in range(arr_len):\n",
    "    if B[i] == num:\n",
    "      return True\n",
    "  return False\n",
    "```\n",
    "\n",
    "3. What would be the big-O above if `A` was length `n` and `B` was length `m`?\n",
    "\n",
    "4. What is the big-O of the following algorithm? Assume `A` and `B` are arrays of numbers of the **same length n**\n",
    "\n",
    "```python\n",
    "def number_in_two_arrays(A, B, num):\n",
    "  arr_len = len(A)\n",
    "  for i in range(arr_len):\n",
    "    for j in range(arr_len):\n",
    "    if A[i] == B[j]:\n",
    "      return True\n",
    "  return False\n",
    "```"
   ]
  },
  {
   "cell_type": "code",
   "execution_count": 1,
   "metadata": {},
   "outputs": [],
   "source": [
    "#1 O(n)\n",
    "#2 O(2n) or O(n)\n",
    "#3 O(n + m) or O(n)\n",
    "#4 O(n^2)"
   ]
  },
  {
   "cell_type": "markdown",
   "metadata": {
    "colab_type": "text",
    "id": "4lz1Ha-E_CQ1"
   },
   "source": [
    "# Reverse Sort\n",
    "\n",
    "Rewrite `selection_sort` so that it sorts in **reverse order** instead (biggest element first, smallest last)"
   ]
  },
  {
   "cell_type": "code",
   "execution_count": 2,
   "metadata": {},
   "outputs": [],
   "source": [
    "# normal selection sort (min to max)\n",
    "def linear_search(a):\n",
    "    min_ = a[0]\n",
    "    min_index = 0\n",
    "    for i in range(len(a)):\n",
    "        if a[i] < min_:\n",
    "            min_ = a[i]\n",
    "            min_index = i\n",
    "    return min_index\n",
    "\n",
    "def selection_sort(arr):\n",
    "    a = arr.copy()\n",
    "    for i in range(len(a)):\n",
    "        j = linear_search(a[i:])+i\n",
    "        ai = a[i]\n",
    "        a[i] = a[j]\n",
    "        a[j] = ai\n",
    "    return a"
   ]
  },
  {
   "cell_type": "code",
   "execution_count": 3,
   "metadata": {},
   "outputs": [
    {
     "data": {
      "text/plain": [
       "[3, 4, 5, 22, 44.4, 66.6, 111, 777]"
      ]
     },
     "execution_count": 3,
     "metadata": {},
     "output_type": "execute_result"
    }
   ],
   "source": [
    "arr = [111,4,3,22,5,44.4,66.6,777]\n",
    "selection_sort(arr)"
   ]
  },
  {
   "cell_type": "code",
   "execution_count": 4,
   "metadata": {},
   "outputs": [],
   "source": [
    "# we can just find the max with the linear search\n",
    "def rev_linear_search(a):\n",
    "    max_ = a[0]\n",
    "    max_index = 0\n",
    "    for i in range(len(a)):\n",
    "        if a[i] > max_:\n",
    "            max_ = a[i]\n",
    "            max_index = i\n",
    "    return max_index"
   ]
  },
  {
   "cell_type": "code",
   "execution_count": 5,
   "metadata": {},
   "outputs": [],
   "source": [
    "# but since you asked to modify selection_sort\n",
    "# we can put the min at the end of the list\n",
    "def rev_selection_sort(arr):\n",
    "    a = arr.copy()\n",
    "    n = len(a)\n",
    "    for i in range(n):\n",
    "        j = linear_search(a[:n-i])\n",
    "        ai = a[n-i-1]\n",
    "        a[n-i-1] = a[j]\n",
    "        a[j] = ai\n",
    "    return a"
   ]
  },
  {
   "cell_type": "code",
   "execution_count": 6,
   "metadata": {},
   "outputs": [
    {
     "data": {
      "text/plain": [
       "[777, 111, 66.6, 44.4, 22, 5, 4, 3]"
      ]
     },
     "execution_count": 6,
     "metadata": {},
     "output_type": "execute_result"
    }
   ],
   "source": [
    "arr = [111,4,3,22,5,44.4,66.6,777]\n",
    "rev_selection_sort(arr)"
   ]
  },
  {
   "cell_type": "markdown",
   "metadata": {
    "colab": {},
    "colab_type": "code",
    "id": "kLzOQr8tAAIG"
   },
   "source": [
    "# Two sum (Brute Force)\n",
    "\n",
    "Two sum. Given an array and a number N, return True if there are numbers A, B in the array such that A + B = N. Otherwise, return False.\n",
    "\n",
    "```\n",
    "two_sum([1, 2, 3, 4], 5) ⇒ True\n",
    "two_sum([3, 4, 6], 6) ⇒ False\n",
    "```\n",
    "\n",
    "Write a brute force $O(n^2)$ algorithm"
   ]
  },
  {
   "cell_type": "code",
   "execution_count": 7,
   "metadata": {},
   "outputs": [],
   "source": [
    "#O(n^2)\n",
    "def two_sum(arr, N):\n",
    "    # try every combinations possible with nested loops\n",
    "    for i in range(len(arr)):\n",
    "        for j in range(len(arr)-1):\n",
    "            if arr[i] + arr[j+1] == N:\n",
    "                return True\n",
    "    return False  "
   ]
  },
  {
   "cell_type": "code",
   "execution_count": 8,
   "metadata": {
    "tags": []
   },
   "outputs": [
    {
     "name": "stdout",
     "output_type": "stream",
     "text": [
      "True\n",
      "False\n",
      "True\n",
      "9.33 µs ± 686 ns per loop (mean ± std. dev. of 7 runs, 100000 loops each)\n"
     ]
    }
   ],
   "source": [
    "print(two_sum([1, 2, 3, 4], 5))   # True\n",
    "print(two_sum([3, 4, 6], 6))      # False\n",
    "print(two_sum([2, 3, 4, 6, 8, 9, 12, 15, 17], 16)) # True\n",
    "%timeit two_sum([2, 3, 4, 6, 8, 9, 12, 15, 17], 16)"
   ]
  },
  {
   "cell_type": "markdown",
   "metadata": {},
   "source": [
    "# Two Sum (Fast Version)\n",
    "\n",
    "Write a linear time version $O(N)$ for the two sum problem"
   ]
  },
  {
   "cell_type": "code",
   "execution_count": 9,
   "metadata": {},
   "outputs": [],
   "source": [
    "# O(2n)\n",
    "def two_sum(arr, N):\n",
    "\n",
    "    d = {}\n",
    "    # create a dict containing arr\n",
    "    for i in range(len(arr)):\n",
    "        d[arr[i]] = arr[i]\n",
    "\n",
    "    for j in range(len(arr)):\n",
    "        # check in dict if N - current value exists\n",
    "        if (N - arr[j]) in d and (N - arr[j]) != arr[j]:\n",
    "            return True\n",
    "    return False\n",
    "    # we could stop the second loop when N/2 is reached"
   ]
  },
  {
   "cell_type": "code",
   "execution_count": 10,
   "metadata": {},
   "outputs": [
    {
     "name": "stdout",
     "output_type": "stream",
     "text": [
      "True\n",
      "False\n",
      "True\n",
      "4.38 µs ± 512 ns per loop (mean ± std. dev. of 7 runs, 100000 loops each)\n"
     ]
    }
   ],
   "source": [
    "print(two_sum([1, 2, 3, 4], 5))   # True\n",
    "print(two_sum([3, 4, 6], 6))      # False\n",
    "print(two_sum([2, 3, 4, 6, 8, 9, 12, 15, 17], 16)) # True\n",
    "%timeit two_sum([2, 3, 4, 6, 8, 9, 12, 15, 17], 16)"
   ]
  },
  {
   "cell_type": "markdown",
   "metadata": {},
   "source": [
    "# Two Sum (itertools version)\n",
    "\n",
    "Use `itertools.combinations` to write a $O(N)$ algorithm for two sum"
   ]
  },
  {
   "cell_type": "code",
   "execution_count": 11,
   "metadata": {},
   "outputs": [],
   "source": [
    "import itertools\n",
    "\n",
    "# O(n)\n",
    "def iter_sum(arr, N):\n",
    "    # create a list of all combinations\n",
    "    all_comb = itertools.combinations(arr, 2)\n",
    "    for i in all_comb:\n",
    "        # check if sum of number in combination = N\n",
    "       if sum(i) == N:\n",
    "           return True\n",
    "    return False"
   ]
  },
  {
   "cell_type": "code",
   "execution_count": 12,
   "metadata": {},
   "outputs": [
    {
     "name": "stdout",
     "output_type": "stream",
     "text": [
      "True\n",
      "False\n",
      "True\n",
      "4.06 µs ± 302 ns per loop (mean ± std. dev. of 7 runs, 100000 loops each)\n"
     ]
    }
   ],
   "source": [
    "print(iter_sum([1, 2, 3, 4], 5))    # True\n",
    "print(iter_sum([3, 4, 6], 6))       # False\n",
    "print(iter_sum([2, 3, 4, 6, 8, 9, 12, 15, 17], 16)) # True\n",
    "%timeit two_sum([2, 3, 4, 6, 8, 9, 12, 15, 17], 16)"
   ]
  },
  {
   "cell_type": "markdown",
   "metadata": {},
   "source": [
    "# Linked Lists\n",
    "\n",
    "Unlike a regular array, a [Linked List](https://en.wikipedia.org/wiki/Linked_list) is a container where inserting a new element somewhere in the middle is $O(1)$. \n",
    "\n",
    "For a regular array inserting an element in the middle is $O(N)$, because we need to \"shift back\" all the elements after it. In practice, we might also have to allocate new memory to fit in the element.\n",
    "\n",
    "A linked list is a series of elements, `Node(value, next)` which work as follows:\n",
    "\n",
    "- The `value` field is the element value -- python object at that place in the list (like elements in a python `list`)\n",
    "\n",
    "- The `next` field points to the next element in the linked list. In python holding a reference to the element does this (the same way a python list holds references to objects)\n",
    "\n",
    "### Exercise\n",
    "\n",
    "Implement the `Node` Class as described above then initialize a list with 5 elements `(3 -> 'cat' -> 'dog' -> 55 -> 56)`"
   ]
  },
  {
   "cell_type": "code",
   "execution_count": 13,
   "metadata": {},
   "outputs": [],
   "source": [
    "# Representation of a Linked list: Node(value, Node(value, Node(value, None)))\n",
    "\n",
    "class Node():\n",
    "    def __init__(self, value=None, next=None):\n",
    "        self.value = value\n",
    "        self.next = next\n",
    "\n",
    "    def show(self):\n",
    "        print(self.value, self.next)\n",
    "\n",
    "class Linked_list():\n",
    "    def __init__(self):\n",
    "        # create a first empty node\n",
    "        self.first = Node()\n",
    "    \n",
    "    def __add__(self, new):\n",
    "        self.new = new \n",
    "        node = self.first\n",
    "\n",
    "        # fill the first node\n",
    "        if node.value == None:\n",
    "            node = Node(new)\n",
    "            self.first = node\n",
    "            #node.show()\n",
    "        else:\n",
    "            # look for an empty node to fill\n",
    "            while node.next != None:\n",
    "                node = node.next\n",
    "            node.next = Node(new)\n",
    "            #node.show()\n",
    "\n",
    "    def show(self):\n",
    "        node = self.first\n",
    "        nodes = []\n",
    "       \n",
    "       # append each node to a list\n",
    "        while node.next != None:\n",
    "            nodes.append(node.value)\n",
    "            node = node.next\n",
    "        nodes.append(node.value)\n",
    "        return nodes\n",
    "\n",
    "    # solution inpsired from https://dbader.org/blog/python-linked-list\n",
    "    def reverse_ll(self):\n",
    "        node = self.first\n",
    "        rev = None\n",
    "        bkp = None\n",
    "        while node != None:\n",
    "            # backup the next node\n",
    "            bkp = node.next\n",
    "            # flip the node\n",
    "            node.next = rev\n",
    "            rev = node\n",
    "            # repeat with nodes in the backup\n",
    "            node = bkp\n",
    "        self.first = rev"
   ]
  },
  {
   "cell_type": "code",
   "execution_count": 14,
   "metadata": {},
   "outputs": [
    {
     "data": {
      "text/plain": [
       "[3, 'cat', 'dog', 55, 56]"
      ]
     },
     "execution_count": 14,
     "metadata": {},
     "output_type": "execute_result"
    }
   ],
   "source": [
    "ll = Linked_list()\n",
    "ll + 3\n",
    "ll + 'cat'\n",
    "ll + 'dog'\n",
    "ll + 55\n",
    "ll + 56\n",
    "\n",
    "ll.show()"
   ]
  },
  {
   "cell_type": "markdown",
   "metadata": {},
   "source": [
    "# Reversing a linked list\n",
    "\n",
    "Write a $O(N)$ function `reverse_ll` that reverses all the pointers in a linked list:\n",
    "\n",
    "```\n",
    "(a -> b -> c) ⇒ (c -> b -> a)\n",
    "```\n",
    "\n",
    "Note: You don't have to reverse their order in the python tuple/list if that's where you're holding them. Just reverse their `Node` pointers to each other"
   ]
  },
  {
   "cell_type": "code",
   "execution_count": 15,
   "metadata": {},
   "outputs": [
    {
     "data": {
      "text/plain": [
       "[56, 55, 'dog', 'cat', 3]"
      ]
     },
     "execution_count": 15,
     "metadata": {},
     "output_type": "execute_result"
    }
   ],
   "source": [
    "ll.reverse_ll()\n",
    "ll.show()"
   ]
  },
  {
   "cell_type": "code",
   "execution_count": null,
   "metadata": {},
   "outputs": [],
   "source": []
  }
 ],
 "metadata": {
  "colab": {
   "authorship_tag": "ABX9TyOATH9BoLFARMvG0o+Vj9NT",
   "collapsed_sections": [],
   "name": "Algorithms 1 Workshop.ipynb",
   "provenance": []
  },
  "kernelspec": {
   "display_name": "Python 3",
   "language": "python",
   "name": "python3"
  },
  "language_info": {
   "codemirror_mode": {
    "name": "ipython",
    "version": 3
   },
   "file_extension": ".py",
   "mimetype": "text/x-python",
   "name": "python",
   "nbconvert_exporter": "python",
   "pygments_lexer": "ipython3",
   "version": "3.8.3"
  }
 },
 "nbformat": 4,
 "nbformat_minor": 1
}
